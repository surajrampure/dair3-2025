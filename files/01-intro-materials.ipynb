{
 "cells": [
  {
   "cell_type": "code",
   "execution_count": null,
   "id": "9a589013",
   "metadata": {
    "slideshow": {
     "slide_type": "skip"
    }
   },
   "outputs": [],
   "source": [
    "from lec_utils import *\n",
    "plotly.io.renderers.default = 'notebook'"
   ]
  },
  {
   "cell_type": "markdown",
   "id": "772ef119",
   "metadata": {
    "slideshow": {
     "slide_type": "slide"
    }
   },
   "source": [
    "#### DAIR-3 Workshop, Day 2 • Building Robust ML Models\n",
    "\n",
    "# Part 1: Overview of Machine Learning and Tools\n",
    "\n",
    "**Instructor**: Suraj Rampure (rampure@umich.edu)"
   ]
  },
  {
   "cell_type": "markdown",
   "id": "205ade72",
   "metadata": {
    "slideshow": {
     "slide_type": "slide"
    }
   },
   "source": [
    "### Survey\n",
    "\n",
    "As we filter in, please open the following website, and fill out the survey linked at the top.\n",
    "\n",
    "<center><h3><a href=\"https://rampure.org/dair3\">rampure.org/dair3</h3></center>\n",
    "    \n",
    "The survey will help me decide how to prioritize our time this morning."
   ]
  },
  {
   "cell_type": "markdown",
   "id": "6cd33d64",
   "metadata": {
    "slideshow": {
     "slide_type": "slide"
    }
   },
   "source": [
    "### Why are we here?"
   ]
  },
  {
   "cell_type": "markdown",
   "id": "d2ccc9de",
   "metadata": {
    "slideshow": {
     "slide_type": "fragment"
    }
   },
   "source": [
    "- The replication crisis is pervasive in science."
   ]
  },
  {
   "cell_type": "markdown",
   "id": "e2e8e1a5",
   "metadata": {
    "slideshow": {
     "slide_type": "fragment"
    }
   },
   "source": [
    "- By writing code, we provide a lineage of analysis for others to read and reproduce.\n",
    "\n",
    "    In an ideal world, to reproduce someone's work, we'd run:\n",
    "\n",
    "    ```bash\n",
    "        git clone https://github.com/surajrampure/analysis\n",
    "        cd analysis\n",
    "        python run.py\n",
    "    ```\n",
    "    \n",
    "    and out would come the same figures and tables as in the original paper."
   ]
  },
  {
   "cell_type": "markdown",
   "id": "f91f5ef2",
   "metadata": {
    "slideshow": {
     "slide_type": "fragment"
    }
   },
   "source": [
    "- **The above ideal is rare.** Code, and code notebooks in particular, have plenty of issues with reproducibility too.<br><small>See [this paper](https://link.springer.com/article/10.1007/s10664-021-09961-9) for more context.</small>"
   ]
  },
  {
   "cell_type": "markdown",
   "id": "76dc77af",
   "metadata": {
    "slideshow": {
     "slide_type": "fragment"
    }
   },
   "source": [
    "- And, even if that ideal is achieved, the results may never have been valid in the first place."
   ]
  },
  {
   "cell_type": "markdown",
   "id": "7d689450",
   "metadata": {
    "slideshow": {
     "slide_type": "slide"
    }
   },
   "source": [
    "### Rigor and reproducibility in the context of generative AI"
   ]
  },
  {
   "cell_type": "markdown",
   "id": "f8c83a3c",
   "metadata": {
    "slideshow": {
     "slide_type": "fragment"
    }
   },
   "source": [
    "- New generative AI tools make it easy to get started writing code, but have increased the prevalence of **analytical errors** – cases where the code \"runs\" but performs flawed analyses."
   ]
  },
  {
   "cell_type": "markdown",
   "id": "c6d6efac",
   "metadata": {
    "slideshow": {
     "slide_type": "fragment"
    }
   },
   "source": [
    "> While some applications, such as using AI for literature review, don't involve writing code, most applications of AI for science are, in essence, software development.\n",
    "> \n",
    "> Unfortunately, scientists are notoriously poor software engineers. Practices that are bog-standard in the industry, like automated testing, version control, and following programming design guidelines, are largely absent or haphazardly adopted in the research community. --- [Could AI slow science?](https://www.aisnakeoil.com/p/could-ai-slow-science)"
   ]
  },
  {
   "cell_type": "markdown",
   "id": "fdfcdd06",
   "metadata": {
    "slideshow": {
     "slide_type": "fragment"
    }
   },
   "source": [
    "- Now, more than ever, we need to build models in both a replicable and **mathematically sound** fashion."
   ]
  },
  {
   "cell_type": "markdown",
   "id": "a53faaa2",
   "metadata": {
    "slideshow": {
     "slide_type": "fragment"
    }
   },
   "source": [
    "- Today, we'll gain a concrete understanding of common failure modes to look for, building upon your knowledge of introductory machine learning."
   ]
  },
  {
   "cell_type": "markdown",
   "id": "8ed7fed6",
   "metadata": {
    "slideshow": {
     "slide_type": "slide"
    }
   },
   "source": [
    "### Agenda 📆\n",
    "\n",
    "1. Overview of machine learning and tools.\n",
    "2. Dimensionality reduction.\n",
    "3. Model selection.\n",
    "4. Model evaluation."
   ]
  },
  {
   "cell_type": "markdown",
   "id": "2616171e",
   "metadata": {
    "slideshow": {
     "slide_type": "fragment"
    }
   },
   "source": [
    "<div class=\"alert alert-danger\"><h3>Watch for Warnings!</h3>\n",
    "\n",
    "Since our emphasis today is on **rigor**, I will present several \"warnings\" to keep in mind when building models, in red boxes like this one. We'll summarize these at the end of the session.\n",
    "    \n",
    "</div>"
   ]
  },
  {
   "cell_type": "markdown",
   "id": "1d94355c",
   "metadata": {
    "slideshow": {
     "slide_type": "slide"
    }
   },
   "source": [
    "### Tools of the trade"
   ]
  },
  {
   "cell_type": "markdown",
   "id": "042ba037",
   "metadata": {
    "slideshow": {
     "slide_type": "fragment"
    }
   },
   "source": [
    "- This morning's session will use the Python programming language, and we will run code in Jupyter Notebooks.<br><small>All the code has already been written for you, so if you've never used Python before, you can just run the code. If you have used Python before, experiment!</small>"
   ]
  },
  {
   "cell_type": "markdown",
   "id": "4ec4ee57",
   "metadata": {
    "slideshow": {
     "slide_type": "fragment"
    }
   },
   "source": [
    "- There are four notebooks for our session, one per part.<br>Access web versions of them by clicking the links at the session website:\n",
    "\n",
    "<center><h3><a href=\"rampure.org/dair3\">rampure.org/dair3</h3></center>"
   ]
  },
  {
   "cell_type": "markdown",
   "id": "01e9ddaa",
   "metadata": {
    "slideshow": {
     "slide_type": "fragment"
    }
   },
   "source": [
    "- Once you have a notebook open, hit **`Shift` + `Enter`** to run each code cell."
   ]
  },
  {
   "cell_type": "markdown",
   "id": "022e877b",
   "metadata": {
    "slideshow": {
     "slide_type": "slide"
    }
   },
   "source": [
    "### Example: Wisconsin breast cancer dataset"
   ]
  },
  {
   "cell_type": "markdown",
   "id": "ab03b9f9",
   "metadata": {
    "slideshow": {
     "slide_type": "fragment"
    }
   },
   "source": [
    "- To make sure your notebooks are set up correctly, run the following cell.<br>You should see a table (DataFrame) with information about breast cancer patients."
   ]
  },
  {
   "cell_type": "code",
   "execution_count": null,
   "id": "fd583194",
   "metadata": {},
   "outputs": [],
   "source": [
    "from sklearn.datasets import load_breast_cancer\n",
    "\n",
    "full = load_breast_cancer()\n",
    "df = pd.DataFrame(full['data'], columns=full['feature_names'])\n",
    "df['target'] = 1 - full['target']\n",
    "df"
   ]
  },
  {
   "cell_type": "markdown",
   "id": "631ac604",
   "metadata": {
    "slideshow": {
     "slide_type": "fragment"
    }
   },
   "source": [
    "- Run the cell below to see a scatter plot."
   ]
  },
  {
   "cell_type": "code",
   "execution_count": null,
   "id": "526b8b75",
   "metadata": {},
   "outputs": [],
   "source": [
    "px.scatter(df, x='mean radius', y='mean texture', color=df['target'].replace({1: 'Malignant', 0: 'Benign'}))"
   ]
  },
  {
   "cell_type": "markdown",
   "id": "0716067c",
   "metadata": {
    "slideshow": {
     "slide_type": "slide"
    }
   },
   "source": [
    "### Local setup"
   ]
  },
  {
   "cell_type": "markdown",
   "id": "dc2fcaac",
   "metadata": {
    "slideshow": {
     "slide_type": "fragment"
    }
   },
   "source": [
    "- **Alternatively**, if you have Jupyter Lab or VSCode set up on your computer, you can access this session's materials by downloading the zip file at this link:\n",
    "\n",
    "<h3><center><a href=\"github.com/surajrampure/dair3-2025\">github.com/surajrampure/dair3-2025</a></center></h3>"
   ]
  },
  {
   "cell_type": "markdown",
   "id": "b82cb1df",
   "metadata": {
    "slideshow": {
     "slide_type": "fragment"
    }
   },
   "source": [
    "- A benefit to downloading materials locally is that you can use AI-embedded IDEs, like **Cursor** and **Windsurf**, to edit files.<br><small>Throughout the session, I'll demonstrate how to (responsibly) use Cursor.</small>"
   ]
  },
  {
   "cell_type": "markdown",
   "id": "0a45db9a",
   "metadata": {
    "slideshow": {
     "slide_type": "slide"
    }
   },
   "source": [
    "## Taxonomy of machine learning\n",
    "\n",
    "---"
   ]
  },
  {
   "cell_type": "markdown",
   "id": "01640ef0",
   "metadata": {
    "slideshow": {
     "slide_type": "slide"
    }
   },
   "source": [
    "<center><img src=\"images/taxonomy.svg\" width=900></center>"
   ]
  },
  {
   "cell_type": "markdown",
   "id": "4bcde3aa",
   "metadata": {
    "slideshow": {
     "slide_type": "slide"
    }
   },
   "source": [
    "### From raw data to predictions"
   ]
  },
  {
   "cell_type": "markdown",
   "id": "b2df2899",
   "metadata": {
    "slideshow": {
     "slide_type": "fragment"
    }
   },
   "source": [
    "- In supervised learning, we don't jump straight to building models. First, we engineer features that best reflect the meaning in the data. This involves data cleaning and visualization, which we won't cover.\n",
    "\n",
    "    <center><img src=\"images/data-to-features.svg\" width=1000></center>\n",
    "\n",
    "    <small>One of the benefits of neural networks (i.e. deep learning) is that features are largely created automatically. Then, the focus shifts from engineering features to engineering model architecture.</small>"
   ]
  },
  {
   "cell_type": "markdown",
   "id": "fbd6d471",
   "metadata": {
    "slideshow": {
     "slide_type": "fragment"
    }
   },
   "source": [
    "- Once we've developed meaningful features, we choose an appropriate model.\n",
    "\n",
    "<center><img src=\"images/features-to-preds.svg\" width=1000></center>"
   ]
  },
  {
   "cell_type": "markdown",
   "id": "ff1ed0be",
   "metadata": {
    "slideshow": {
     "slide_type": "slide"
    }
   },
   "source": [
    "### `sklearn`"
   ]
  },
  {
   "cell_type": "markdown",
   "id": "bace2eed",
   "metadata": {
    "slideshow": {
     "slide_type": "fragment"
    }
   },
   "source": [
    "- `sklearn` (scikit-learn) implements many common steps in the feature and model creation pipeline.<br><small>It is **widely** used in the Python ecosystem for (non-deep learning) modeling.</small>\n",
    "\n",
    "<center><img src='images/sklearn.png' width=20%></center>"
   ]
  },
  {
   "cell_type": "markdown",
   "id": "a7241330",
   "metadata": {
    "slideshow": {
     "slide_type": "fragment"
    }
   },
   "source": [
    "- It interfaces with `numpy` arrays, and to an extent, `pandas` DataFrames."
   ]
  },
  {
   "cell_type": "markdown",
   "id": "5d503e0b",
   "metadata": {
    "slideshow": {
     "slide_type": "fragment"
    }
   },
   "source": [
    "- Huge benefit: the [documentation online](https://scikit-learn.org/stable/modules/classes.html) is excellent."
   ]
  },
  {
   "cell_type": "markdown",
   "id": "223d12c6",
   "metadata": {
    "slideshow": {
     "slide_type": "slide"
    }
   },
   "source": [
    "### Import, instantiate, fit, predict"
   ]
  },
  {
   "cell_type": "markdown",
   "id": "e0397b34",
   "metadata": {
    "slideshow": {
     "slide_type": "fragment"
    }
   },
   "source": [
    "- All models in `sklearn` can be used using the following four steps."
   ]
  },
  {
   "cell_type": "markdown",
   "id": "a8793e43",
   "metadata": {
    "slideshow": {
     "slide_type": "fragment"
    }
   },
   "source": [
    "1. Import the relevant class."
   ]
  },
  {
   "cell_type": "code",
   "execution_count": null,
   "id": "b8ec764c",
   "metadata": {},
   "outputs": [],
   "source": [
    "from sklearn.linear_model import LogisticRegression"
   ]
  },
  {
   "cell_type": "markdown",
   "id": "5b8f4f94",
   "metadata": {
    "slideshow": {
     "slide_type": "fragment"
    }
   },
   "source": [
    "2. Instantiate an object from that class (optionally, with hyperparameters)."
   ]
  },
  {
   "cell_type": "code",
   "execution_count": null,
   "id": "c236535b",
   "metadata": {},
   "outputs": [],
   "source": [
    "model = LogisticRegression()"
   ]
  },
  {
   "cell_type": "markdown",
   "id": "60dca381",
   "metadata": {
    "slideshow": {
     "slide_type": "fragment"
    }
   },
   "source": [
    "3. Fit the model using **training** data."
   ]
  },
  {
   "cell_type": "code",
   "execution_count": null,
   "id": "ed761ddb",
   "metadata": {},
   "outputs": [],
   "source": [
    "from sklearn.model_selection import train_test_split\n",
    "X_train, X_test, y_train, y_test = train_test_split(df[['mean radius', 'mean texture']], \n",
    "                                                    df['target'])\n",
    "\n",
    "model.fit(X_train, y_train)"
   ]
  },
  {
   "cell_type": "markdown",
   "id": "c3a0b12b",
   "metadata": {
    "slideshow": {
     "slide_type": "fragment"
    }
   },
   "source": [
    "4. Make predictions and evaluate the model."
   ]
  },
  {
   "cell_type": "code",
   "execution_count": null,
   "id": "39c33247",
   "metadata": {},
   "outputs": [],
   "source": [
    "X_train"
   ]
  },
  {
   "cell_type": "code",
   "execution_count": null,
   "id": "7428f02c",
   "metadata": {},
   "outputs": [],
   "source": [
    "model.predict_proba([[14.59, 22.68]])"
   ]
  },
  {
   "cell_type": "code",
   "execution_count": null,
   "id": "79eba67a",
   "metadata": {},
   "outputs": [],
   "source": [
    "# How were predicted probabilities turned into classifications?\n",
    "model.predict([[14.59, 22.68]])"
   ]
  },
  {
   "cell_type": "code",
   "execution_count": null,
   "id": "2092dbc0",
   "metadata": {},
   "outputs": [],
   "source": [
    "model.score(X_test, y_test)"
   ]
  },
  {
   "cell_type": "markdown",
   "id": "083fa367",
   "metadata": {
    "slideshow": {
     "slide_type": "slide"
    }
   },
   "source": [
    "### Logistic regression"
   ]
  },
  {
   "cell_type": "code",
   "execution_count": null,
   "id": "ee8c48a4",
   "metadata": {},
   "outputs": [],
   "source": [
    "model.intercept_, model.coef_"
   ]
  },
  {
   "cell_type": "markdown",
   "id": "7f0f9a2a",
   "metadata": {
    "slideshow": {
     "slide_type": "fragment"
    }
   },
   "source": [
    "**Discussion Question**: What formula is our trained logistic regression model using to predict the probability of malignancy? **How** did it find that formula?"
   ]
  },
  {
   "cell_type": "markdown",
   "id": "87eef0b2",
   "metadata": {
    "slideshow": {
     "slide_type": "slide"
    }
   },
   "source": [
    "### Train-test splits"
   ]
  },
  {
   "cell_type": "markdown",
   "id": "e9297fc3",
   "metadata": {
    "slideshow": {
     "slide_type": "fragment"
    }
   },
   "source": [
    "**Discussion Question**: What is the difference between training and test data, and why do we **need** a train-test split when building a predictive model?"
   ]
  },
  {
   "cell_type": "markdown",
   "id": "55a0b2ed",
   "metadata": {
    "slideshow": {
     "slide_type": "slide"
    }
   },
   "source": [
    "### An inconsistency 🤔"
   ]
  },
  {
   "cell_type": "markdown",
   "id": "cf6869db",
   "metadata": {
    "slideshow": {
     "slide_type": "fragment"
    }
   },
   "source": [
    "- Run the code cells under \"**Import, instantiate, fit, predict**\" one more time. What do you notice?"
   ]
  },
  {
   "cell_type": "markdown",
   "id": "db268154",
   "metadata": {
    "slideshow": {
     "slide_type": "fragment"
    }
   },
   "source": [
    "- **Why** are the results different?"
   ]
  }
 ],
 "metadata": {
  "celltoolbar": "Slideshow",
  "kernelspec": {
   "display_name": "Python 3 (ipykernel)",
   "language": "python",
   "name": "python3"
  },
  "language_info": {
   "codemirror_mode": {
    "name": "ipython",
    "version": 3
   },
   "file_extension": ".py",
   "mimetype": "text/x-python",
   "name": "python",
   "nbconvert_exporter": "python",
   "pygments_lexer": "ipython3",
   "version": "3.10.18"
  },
  "livereveal": {
   "scroll": true
  },
  "rise": {
   "transition": "none"
  }
 },
 "nbformat": 4,
 "nbformat_minor": 5
}
